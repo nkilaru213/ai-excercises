{
  "cells": [
    {
      "cell_type": "markdown",
      "metadata": {
        "id": "view-in-github",
        "colab_type": "text"
      },
      "source": [
        "<a href=\"https://colab.research.google.com/github/nkilaru213/ai-excercises/blob/main/NaveenKilaru_MIMIC_Data_MLDL_HW4.ipynb\" target=\"_parent\"><img src=\"https://colab.research.google.com/assets/colab-badge.svg\" alt=\"Open In Colab\"/></a>"
      ]
    },
    {
      "cell_type": "markdown",
      "metadata": {
        "id": "MYiS8P9dCr69"
      },
      "source": [
        "# **Load Data MIMIC health data tables**"
      ]
    },
    {
      "cell_type": "code",
      "execution_count": 1,
      "metadata": {
        "id": "unY4fcmc8ktW"
      },
      "outputs": [],
      "source": [
        "# import all the packages needed\n",
        "import pandas as pd\n",
        "from google.colab import files\n",
        "import numpy as np\n",
        "from sklearn.model_selection import train_test_split\n",
        "from sklearn.preprocessing import StandardScaler\n",
        "from sklearn.ensemble import RandomForestClassifier\n",
        "from sklearn.metrics import classification_report, roc_auc_score\n",
        "import torch\n",
        "import torch.nn as nn\n",
        "from torch.utils.data import DataLoader, TensorDataset\n",
        "import joblib\n",
        "import warnings\n",
        "warnings.filterwarnings(\"ignore\")\n",
        "\n"
      ]
    },
    {
      "cell_type": "code",
      "execution_count": 2,
      "metadata": {
        "colab": {
          "base_uri": "https://localhost:8080/"
        },
        "id": "7ntF-07sKBZk",
        "outputId": "ddb16384-2324-40b2-ae23-a9e65f201151"
      },
      "outputs": [
        {
          "output_type": "stream",
          "name": "stdout",
          "text": [
            "Mounted at /content/drive\n"
          ]
        }
      ],
      "source": [
        "# Connect the the drive to access the google drive file system\n",
        "from google.colab import drive\n",
        "drive.mount('/content/drive')"
      ]
    },
    {
      "cell_type": "code",
      "execution_count": 3,
      "metadata": {
        "id": "S8nX-b33WcGv",
        "colab": {
          "base_uri": "https://localhost:8080/"
        },
        "outputId": "98340dc4-0549-4164-dcec-ce52da434f77"
      },
      "outputs": [
        {
          "output_type": "stream",
          "name": "stdout",
          "text": [
            "<class 'pandas.core.frame.DataFrame'>\n",
            "RangeIndex: 129 entries, 0 to 128\n",
            "Data columns (total 19 columns):\n",
            " #   Column                Non-Null Count  Dtype \n",
            "---  ------                --------------  ----- \n",
            " 0   ROW_ID                129 non-null    int64 \n",
            " 1   SUBJECT_ID            129 non-null    int64 \n",
            " 2   HADM_ID               129 non-null    int64 \n",
            " 3   ADMITTIME             129 non-null    object\n",
            " 4   DISCHTIME             129 non-null    object\n",
            " 5   DEATHTIME             40 non-null     object\n",
            " 6   ADMISSION_TYPE        129 non-null    object\n",
            " 7   ADMISSION_LOCATION    129 non-null    object\n",
            " 8   DISCHARGE_LOCATION    129 non-null    object\n",
            " 9   INSURANCE             129 non-null    object\n",
            " 10  LANGUAGE              81 non-null     object\n",
            " 11  RELIGION              128 non-null    object\n",
            " 12  MARITAL_STATUS        113 non-null    object\n",
            " 13  ETHNICITY             129 non-null    object\n",
            " 14  EDREGTIME             92 non-null     object\n",
            " 15  EDOUTTIME             92 non-null     object\n",
            " 16  DIAGNOSIS             129 non-null    object\n",
            " 17  HOSPITAL_EXPIRE_FLAG  129 non-null    int64 \n",
            " 18  HAS_CHARTEVENTS_DATA  129 non-null    int64 \n",
            "dtypes: int64(5), object(14)\n",
            "memory usage: 19.3+ KB\n",
            "<class 'pandas.core.frame.DataFrame'>\n",
            "RangeIndex: 100 entries, 0 to 99\n",
            "Data columns (total 8 columns):\n",
            " #   Column       Non-Null Count  Dtype \n",
            "---  ------       --------------  ----- \n",
            " 0   ROW_ID       100 non-null    int64 \n",
            " 1   SUBJECT_ID   100 non-null    int64 \n",
            " 2   GENDER       100 non-null    object\n",
            " 3   DOB          100 non-null    object\n",
            " 4   DOD          100 non-null    object\n",
            " 5   DOD_HOSP     70 non-null     object\n",
            " 6   DOD_SSN      77 non-null     object\n",
            " 7   EXPIRE_FLAG  100 non-null    int64 \n",
            "dtypes: int64(3), object(5)\n",
            "memory usage: 6.4+ KB\n",
            "<class 'pandas.core.frame.DataFrame'>\n",
            "RangeIndex: 10398 entries, 0 to 10397\n",
            "Data columns (total 19 columns):\n",
            " #   Column             Non-Null Count  Dtype  \n",
            "---  ------             --------------  -----  \n",
            " 0   ROW_ID             10398 non-null  int64  \n",
            " 1   SUBJECT_ID         10398 non-null  int64  \n",
            " 2   HADM_ID            10398 non-null  int64  \n",
            " 3   ICUSTAY_ID         7046 non-null   float64\n",
            " 4   STARTDATE          10398 non-null  object \n",
            " 5   ENDDATE            10397 non-null  object \n",
            " 6   DRUG_TYPE          10398 non-null  object \n",
            " 7   DRUG               10398 non-null  object \n",
            " 8   DRUG_NAME_POE      5766 non-null   object \n",
            " 9   DRUG_NAME_GENERIC  5772 non-null   object \n",
            " 10  FORMULARY_DRUG_CD  10397 non-null  object \n",
            " 11  GSN                9122 non-null   float64\n",
            " 12  NDC                10397 non-null  float64\n",
            " 13  PROD_STRENGTH      10398 non-null  object \n",
            " 14  DOSE_VAL_RX        10398 non-null  object \n",
            " 15  DOSE_UNIT_RX       10398 non-null  object \n",
            " 16  FORM_VAL_DISP      10398 non-null  object \n",
            " 17  FORM_UNIT_DISP     10397 non-null  object \n",
            " 18  ROUTE              10398 non-null  object \n",
            "dtypes: float64(3), int64(3), object(13)\n",
            "memory usage: 1.5+ MB\n",
            "<class 'pandas.core.frame.DataFrame'>\n",
            "RangeIndex: 136 entries, 0 to 135\n",
            "Data columns (total 12 columns):\n",
            " #   Column          Non-Null Count  Dtype  \n",
            "---  ------          --------------  -----  \n",
            " 0   ROW_ID          136 non-null    int64  \n",
            " 1   SUBJECT_ID      136 non-null    int64  \n",
            " 2   HADM_ID         136 non-null    int64  \n",
            " 3   ICUSTAY_ID      136 non-null    int64  \n",
            " 4   DBSOURCE        136 non-null    object \n",
            " 5   FIRST_CAREUNIT  136 non-null    object \n",
            " 6   LAST_CAREUNIT   136 non-null    object \n",
            " 7   FIRST_WARDID    136 non-null    int64  \n",
            " 8   LAST_WARDID     136 non-null    int64  \n",
            " 9   INTIME          136 non-null    object \n",
            " 10  OUTTIME         136 non-null    object \n",
            " 11  LOS             136 non-null    float64\n",
            "dtypes: float64(1), int64(6), object(5)\n",
            "memory usage: 12.9+ KB\n",
            "<class 'pandas.core.frame.DataFrame'>\n",
            "RangeIndex: 524 entries, 0 to 523\n",
            "Data columns (total 13 columns):\n",
            " #   Column         Non-Null Count  Dtype  \n",
            "---  ------         --------------  -----  \n",
            " 0   ROW_ID         524 non-null    int64  \n",
            " 1   SUBJECT_ID     524 non-null    int64  \n",
            " 2   HADM_ID        524 non-null    int64  \n",
            " 3   ICUSTAY_ID     167 non-null    float64\n",
            " 4   DBSOURCE       524 non-null    object \n",
            " 5   EVENTTYPE      524 non-null    object \n",
            " 6   PREV_CAREUNIT  167 non-null    object \n",
            " 7   CURR_CAREUNIT  167 non-null    object \n",
            " 8   PREV_WARDID    395 non-null    float64\n",
            " 9   CURR_WARDID    395 non-null    float64\n",
            " 10  INTIME         524 non-null    object \n",
            " 11  OUTTIME        395 non-null    object \n",
            " 12  LOS            395 non-null    float64\n",
            "dtypes: float64(4), int64(3), object(6)\n",
            "memory usage: 53.3+ KB\n"
          ]
        }
      ],
      "source": [
        "# Load tables\n",
        "\n",
        "# Read ADMISSIONS data table from google drive file system\n",
        "admissions=pd.read_csv('/content/drive/My Drive/Exercises/ADMISSIONS.csv')\n",
        "\n",
        "# Read PATIENTS data table from google drive file system\n",
        "patients=pd.read_csv('/content/drive/My Drive/Exercises/PATIENTS.csv')\n",
        "\n",
        "# Read PRESCRIPTIONS data table from google drive file system\n",
        "prescriptions=pd.read_csv('/content/drive/My Drive/Exercises/PRESCRIPTIONS.csv')\n",
        "\n",
        "# Read ICU_STAYS data table from google drive file system\n",
        "icustays=pd.read_csv('/content/drive/My Drive/Exercises/ICUSTAYS.csv')\n",
        "\n",
        "# Read TRANSFERS data table from google drive file system\n",
        "transfers=pd.read_csv('/content/drive/My Drive/Exercises/TRANSFERS.csv')\n",
        "\n",
        "# Display ADMISSIONS table info\n",
        "admissions.columns = map(lambda x: str(x).upper(), admissions.columns)\n",
        "admissions.info()\n",
        "\n",
        "# Display PATIENTS table info\n",
        "patients.columns = map(lambda x: str(x).upper(), patients.columns)\n",
        "patients.info()\n",
        "\n",
        "# Display PRESCRIPTIOSN table info\n",
        "prescriptions.columns = map(lambda x: str(x).upper(), prescriptions.columns)\n",
        "prescriptions.info()\n",
        "\n",
        "# Display ICUSTAYS table info\n",
        "icustays.columns = map(lambda x: str(x).upper(), icustays.columns)\n",
        "icustays.info()\n",
        "\n",
        "# Display TRANSFERS table info\n",
        "transfers.columns = map(lambda x: str(x).upper(), transfers.columns)\n",
        "transfers.info()"
      ]
    },
    {
      "cell_type": "markdown",
      "source": [
        "***Tables***\n",
        "\n",
        "**admissions**  : Stores patient hospital admission details (time of admission, type, location, insurance, diagnosis, etc.)\n",
        "\n",
        "**patients** : Contains demographic details (gender, birth date, death date, expiration flag).\n",
        "\n",
        "**prescriptions** : Contains medication details (drug type, dosage, route, start & end dates).\n",
        "\n",
        "**icustays** : Stores ICU admissions (care units, length of stay, entry/exit times).\n",
        "\n",
        "**transfers** : Records patient movements between hospital units (previous/current ward).\n",
        "\n"
      ],
      "metadata": {
        "id": "8LCvXr7ik6E3"
      }
    },
    {
      "cell_type": "code",
      "source": [
        "# Display few rows from each dataframe\n",
        "admissions.head()\n",
        "patients.head()\n",
        "prescriptions.head()\n",
        "icustays.head()\n",
        "transfers.head()"
      ],
      "metadata": {
        "colab": {
          "base_uri": "https://localhost:8080/",
          "height": 206
        },
        "id": "UdmBtNrDp-m1",
        "outputId": "85759119-e01c-4cc1-bbdb-dd56d2bfe1c5"
      },
      "execution_count": 4,
      "outputs": [
        {
          "output_type": "execute_result",
          "data": {
            "text/plain": [
              "   ROW_ID  SUBJECT_ID  HADM_ID  ICUSTAY_ID DBSOURCE  EVENTTYPE PREV_CAREUNIT  \\\n",
              "0   54440       10006   142345    206504.0  carevue      admit           NaN   \n",
              "1   54441       10006   142345         NaN  carevue   transfer          MICU   \n",
              "2   54442       10006   142345         NaN  carevue  discharge           NaN   \n",
              "3   54460       10011   105331    232110.0  carevue      admit           NaN   \n",
              "4   54461       10011   105331         NaN  carevue  discharge          MICU   \n",
              "\n",
              "  CURR_CAREUNIT  PREV_WARDID  CURR_WARDID               INTIME  \\\n",
              "0          MICU          NaN         52.0  2164-10-23 21:10:15   \n",
              "1           NaN         52.0         45.0  2164-10-25 12:21:07   \n",
              "2           NaN         45.0          NaN  2164-11-01 17:14:27   \n",
              "3          MICU          NaN         15.0  2126-08-14 22:34:00   \n",
              "4           NaN         15.0          NaN  2126-08-28 18:59:00   \n",
              "\n",
              "               OUTTIME     LOS  \n",
              "0  2164-10-25 12:21:07   39.18  \n",
              "1  2164-11-01 17:14:27  172.89  \n",
              "2                  NaN     NaN  \n",
              "3  2126-08-28 18:59:00  332.42  \n",
              "4                  NaN     NaN  "
            ],
            "text/html": [
              "\n",
              "  <div id=\"df-a16b7899-d3bb-4e4e-952f-e071a371e8e3\" class=\"colab-df-container\">\n",
              "    <div>\n",
              "<style scoped>\n",
              "    .dataframe tbody tr th:only-of-type {\n",
              "        vertical-align: middle;\n",
              "    }\n",
              "\n",
              "    .dataframe tbody tr th {\n",
              "        vertical-align: top;\n",
              "    }\n",
              "\n",
              "    .dataframe thead th {\n",
              "        text-align: right;\n",
              "    }\n",
              "</style>\n",
              "<table border=\"1\" class=\"dataframe\">\n",
              "  <thead>\n",
              "    <tr style=\"text-align: right;\">\n",
              "      <th></th>\n",
              "      <th>ROW_ID</th>\n",
              "      <th>SUBJECT_ID</th>\n",
              "      <th>HADM_ID</th>\n",
              "      <th>ICUSTAY_ID</th>\n",
              "      <th>DBSOURCE</th>\n",
              "      <th>EVENTTYPE</th>\n",
              "      <th>PREV_CAREUNIT</th>\n",
              "      <th>CURR_CAREUNIT</th>\n",
              "      <th>PREV_WARDID</th>\n",
              "      <th>CURR_WARDID</th>\n",
              "      <th>INTIME</th>\n",
              "      <th>OUTTIME</th>\n",
              "      <th>LOS</th>\n",
              "    </tr>\n",
              "  </thead>\n",
              "  <tbody>\n",
              "    <tr>\n",
              "      <th>0</th>\n",
              "      <td>54440</td>\n",
              "      <td>10006</td>\n",
              "      <td>142345</td>\n",
              "      <td>206504.0</td>\n",
              "      <td>carevue</td>\n",
              "      <td>admit</td>\n",
              "      <td>NaN</td>\n",
              "      <td>MICU</td>\n",
              "      <td>NaN</td>\n",
              "      <td>52.0</td>\n",
              "      <td>2164-10-23 21:10:15</td>\n",
              "      <td>2164-10-25 12:21:07</td>\n",
              "      <td>39.18</td>\n",
              "    </tr>\n",
              "    <tr>\n",
              "      <th>1</th>\n",
              "      <td>54441</td>\n",
              "      <td>10006</td>\n",
              "      <td>142345</td>\n",
              "      <td>NaN</td>\n",
              "      <td>carevue</td>\n",
              "      <td>transfer</td>\n",
              "      <td>MICU</td>\n",
              "      <td>NaN</td>\n",
              "      <td>52.0</td>\n",
              "      <td>45.0</td>\n",
              "      <td>2164-10-25 12:21:07</td>\n",
              "      <td>2164-11-01 17:14:27</td>\n",
              "      <td>172.89</td>\n",
              "    </tr>\n",
              "    <tr>\n",
              "      <th>2</th>\n",
              "      <td>54442</td>\n",
              "      <td>10006</td>\n",
              "      <td>142345</td>\n",
              "      <td>NaN</td>\n",
              "      <td>carevue</td>\n",
              "      <td>discharge</td>\n",
              "      <td>NaN</td>\n",
              "      <td>NaN</td>\n",
              "      <td>45.0</td>\n",
              "      <td>NaN</td>\n",
              "      <td>2164-11-01 17:14:27</td>\n",
              "      <td>NaN</td>\n",
              "      <td>NaN</td>\n",
              "    </tr>\n",
              "    <tr>\n",
              "      <th>3</th>\n",
              "      <td>54460</td>\n",
              "      <td>10011</td>\n",
              "      <td>105331</td>\n",
              "      <td>232110.0</td>\n",
              "      <td>carevue</td>\n",
              "      <td>admit</td>\n",
              "      <td>NaN</td>\n",
              "      <td>MICU</td>\n",
              "      <td>NaN</td>\n",
              "      <td>15.0</td>\n",
              "      <td>2126-08-14 22:34:00</td>\n",
              "      <td>2126-08-28 18:59:00</td>\n",
              "      <td>332.42</td>\n",
              "    </tr>\n",
              "    <tr>\n",
              "      <th>4</th>\n",
              "      <td>54461</td>\n",
              "      <td>10011</td>\n",
              "      <td>105331</td>\n",
              "      <td>NaN</td>\n",
              "      <td>carevue</td>\n",
              "      <td>discharge</td>\n",
              "      <td>MICU</td>\n",
              "      <td>NaN</td>\n",
              "      <td>15.0</td>\n",
              "      <td>NaN</td>\n",
              "      <td>2126-08-28 18:59:00</td>\n",
              "      <td>NaN</td>\n",
              "      <td>NaN</td>\n",
              "    </tr>\n",
              "  </tbody>\n",
              "</table>\n",
              "</div>\n",
              "    <div class=\"colab-df-buttons\">\n",
              "\n",
              "  <div class=\"colab-df-container\">\n",
              "    <button class=\"colab-df-convert\" onclick=\"convertToInteractive('df-a16b7899-d3bb-4e4e-952f-e071a371e8e3')\"\n",
              "            title=\"Convert this dataframe to an interactive table.\"\n",
              "            style=\"display:none;\">\n",
              "\n",
              "  <svg xmlns=\"http://www.w3.org/2000/svg\" height=\"24px\" viewBox=\"0 -960 960 960\">\n",
              "    <path d=\"M120-120v-720h720v720H120Zm60-500h600v-160H180v160Zm220 220h160v-160H400v160Zm0 220h160v-160H400v160ZM180-400h160v-160H180v160Zm440 0h160v-160H620v160ZM180-180h160v-160H180v160Zm440 0h160v-160H620v160Z\"/>\n",
              "  </svg>\n",
              "    </button>\n",
              "\n",
              "  <style>\n",
              "    .colab-df-container {\n",
              "      display:flex;\n",
              "      gap: 12px;\n",
              "    }\n",
              "\n",
              "    .colab-df-convert {\n",
              "      background-color: #E8F0FE;\n",
              "      border: none;\n",
              "      border-radius: 50%;\n",
              "      cursor: pointer;\n",
              "      display: none;\n",
              "      fill: #1967D2;\n",
              "      height: 32px;\n",
              "      padding: 0 0 0 0;\n",
              "      width: 32px;\n",
              "    }\n",
              "\n",
              "    .colab-df-convert:hover {\n",
              "      background-color: #E2EBFA;\n",
              "      box-shadow: 0px 1px 2px rgba(60, 64, 67, 0.3), 0px 1px 3px 1px rgba(60, 64, 67, 0.15);\n",
              "      fill: #174EA6;\n",
              "    }\n",
              "\n",
              "    .colab-df-buttons div {\n",
              "      margin-bottom: 4px;\n",
              "    }\n",
              "\n",
              "    [theme=dark] .colab-df-convert {\n",
              "      background-color: #3B4455;\n",
              "      fill: #D2E3FC;\n",
              "    }\n",
              "\n",
              "    [theme=dark] .colab-df-convert:hover {\n",
              "      background-color: #434B5C;\n",
              "      box-shadow: 0px 1px 3px 1px rgba(0, 0, 0, 0.15);\n",
              "      filter: drop-shadow(0px 1px 2px rgba(0, 0, 0, 0.3));\n",
              "      fill: #FFFFFF;\n",
              "    }\n",
              "  </style>\n",
              "\n",
              "    <script>\n",
              "      const buttonEl =\n",
              "        document.querySelector('#df-a16b7899-d3bb-4e4e-952f-e071a371e8e3 button.colab-df-convert');\n",
              "      buttonEl.style.display =\n",
              "        google.colab.kernel.accessAllowed ? 'block' : 'none';\n",
              "\n",
              "      async function convertToInteractive(key) {\n",
              "        const element = document.querySelector('#df-a16b7899-d3bb-4e4e-952f-e071a371e8e3');\n",
              "        const dataTable =\n",
              "          await google.colab.kernel.invokeFunction('convertToInteractive',\n",
              "                                                    [key], {});\n",
              "        if (!dataTable) return;\n",
              "\n",
              "        const docLinkHtml = 'Like what you see? Visit the ' +\n",
              "          '<a target=\"_blank\" href=https://colab.research.google.com/notebooks/data_table.ipynb>data table notebook</a>'\n",
              "          + ' to learn more about interactive tables.';\n",
              "        element.innerHTML = '';\n",
              "        dataTable['output_type'] = 'display_data';\n",
              "        await google.colab.output.renderOutput(dataTable, element);\n",
              "        const docLink = document.createElement('div');\n",
              "        docLink.innerHTML = docLinkHtml;\n",
              "        element.appendChild(docLink);\n",
              "      }\n",
              "    </script>\n",
              "  </div>\n",
              "\n",
              "\n",
              "<div id=\"df-7330aa6d-2c68-4d88-988f-b5eaa9c33137\">\n",
              "  <button class=\"colab-df-quickchart\" onclick=\"quickchart('df-7330aa6d-2c68-4d88-988f-b5eaa9c33137')\"\n",
              "            title=\"Suggest charts\"\n",
              "            style=\"display:none;\">\n",
              "\n",
              "<svg xmlns=\"http://www.w3.org/2000/svg\" height=\"24px\"viewBox=\"0 0 24 24\"\n",
              "     width=\"24px\">\n",
              "    <g>\n",
              "        <path d=\"M19 3H5c-1.1 0-2 .9-2 2v14c0 1.1.9 2 2 2h14c1.1 0 2-.9 2-2V5c0-1.1-.9-2-2-2zM9 17H7v-7h2v7zm4 0h-2V7h2v10zm4 0h-2v-4h2v4z\"/>\n",
              "    </g>\n",
              "</svg>\n",
              "  </button>\n",
              "\n",
              "<style>\n",
              "  .colab-df-quickchart {\n",
              "      --bg-color: #E8F0FE;\n",
              "      --fill-color: #1967D2;\n",
              "      --hover-bg-color: #E2EBFA;\n",
              "      --hover-fill-color: #174EA6;\n",
              "      --disabled-fill-color: #AAA;\n",
              "      --disabled-bg-color: #DDD;\n",
              "  }\n",
              "\n",
              "  [theme=dark] .colab-df-quickchart {\n",
              "      --bg-color: #3B4455;\n",
              "      --fill-color: #D2E3FC;\n",
              "      --hover-bg-color: #434B5C;\n",
              "      --hover-fill-color: #FFFFFF;\n",
              "      --disabled-bg-color: #3B4455;\n",
              "      --disabled-fill-color: #666;\n",
              "  }\n",
              "\n",
              "  .colab-df-quickchart {\n",
              "    background-color: var(--bg-color);\n",
              "    border: none;\n",
              "    border-radius: 50%;\n",
              "    cursor: pointer;\n",
              "    display: none;\n",
              "    fill: var(--fill-color);\n",
              "    height: 32px;\n",
              "    padding: 0;\n",
              "    width: 32px;\n",
              "  }\n",
              "\n",
              "  .colab-df-quickchart:hover {\n",
              "    background-color: var(--hover-bg-color);\n",
              "    box-shadow: 0 1px 2px rgba(60, 64, 67, 0.3), 0 1px 3px 1px rgba(60, 64, 67, 0.15);\n",
              "    fill: var(--button-hover-fill-color);\n",
              "  }\n",
              "\n",
              "  .colab-df-quickchart-complete:disabled,\n",
              "  .colab-df-quickchart-complete:disabled:hover {\n",
              "    background-color: var(--disabled-bg-color);\n",
              "    fill: var(--disabled-fill-color);\n",
              "    box-shadow: none;\n",
              "  }\n",
              "\n",
              "  .colab-df-spinner {\n",
              "    border: 2px solid var(--fill-color);\n",
              "    border-color: transparent;\n",
              "    border-bottom-color: var(--fill-color);\n",
              "    animation:\n",
              "      spin 1s steps(1) infinite;\n",
              "  }\n",
              "\n",
              "  @keyframes spin {\n",
              "    0% {\n",
              "      border-color: transparent;\n",
              "      border-bottom-color: var(--fill-color);\n",
              "      border-left-color: var(--fill-color);\n",
              "    }\n",
              "    20% {\n",
              "      border-color: transparent;\n",
              "      border-left-color: var(--fill-color);\n",
              "      border-top-color: var(--fill-color);\n",
              "    }\n",
              "    30% {\n",
              "      border-color: transparent;\n",
              "      border-left-color: var(--fill-color);\n",
              "      border-top-color: var(--fill-color);\n",
              "      border-right-color: var(--fill-color);\n",
              "    }\n",
              "    40% {\n",
              "      border-color: transparent;\n",
              "      border-right-color: var(--fill-color);\n",
              "      border-top-color: var(--fill-color);\n",
              "    }\n",
              "    60% {\n",
              "      border-color: transparent;\n",
              "      border-right-color: var(--fill-color);\n",
              "    }\n",
              "    80% {\n",
              "      border-color: transparent;\n",
              "      border-right-color: var(--fill-color);\n",
              "      border-bottom-color: var(--fill-color);\n",
              "    }\n",
              "    90% {\n",
              "      border-color: transparent;\n",
              "      border-bottom-color: var(--fill-color);\n",
              "    }\n",
              "  }\n",
              "</style>\n",
              "\n",
              "  <script>\n",
              "    async function quickchart(key) {\n",
              "      const quickchartButtonEl =\n",
              "        document.querySelector('#' + key + ' button');\n",
              "      quickchartButtonEl.disabled = true;  // To prevent multiple clicks.\n",
              "      quickchartButtonEl.classList.add('colab-df-spinner');\n",
              "      try {\n",
              "        const charts = await google.colab.kernel.invokeFunction(\n",
              "            'suggestCharts', [key], {});\n",
              "      } catch (error) {\n",
              "        console.error('Error during call to suggestCharts:', error);\n",
              "      }\n",
              "      quickchartButtonEl.classList.remove('colab-df-spinner');\n",
              "      quickchartButtonEl.classList.add('colab-df-quickchart-complete');\n",
              "    }\n",
              "    (() => {\n",
              "      let quickchartButtonEl =\n",
              "        document.querySelector('#df-7330aa6d-2c68-4d88-988f-b5eaa9c33137 button');\n",
              "      quickchartButtonEl.style.display =\n",
              "        google.colab.kernel.accessAllowed ? 'block' : 'none';\n",
              "    })();\n",
              "  </script>\n",
              "</div>\n",
              "\n",
              "    </div>\n",
              "  </div>\n"
            ],
            "application/vnd.google.colaboratory.intrinsic+json": {
              "type": "dataframe",
              "variable_name": "transfers",
              "summary": "{\n  \"name\": \"transfers\",\n  \"rows\": 524,\n  \"fields\": [\n    {\n      \"column\": \"ROW_ID\",\n      \"properties\": {\n        \"dtype\": \"number\",\n        \"std\": 62046,\n        \"min\": 54440,\n        \"max\": 182058,\n        \"num_unique_values\": 524,\n        \"samples\": [\n          178847,\n          179560,\n          54467\n        ],\n        \"semantic_type\": \"\",\n        \"description\": \"\"\n      }\n    },\n    {\n      \"column\": \"SUBJECT_ID\",\n      \"properties\": {\n        \"dtype\": \"number\",\n        \"std\": 16023,\n        \"min\": 10006,\n        \"max\": 44228,\n        \"num_unique_values\": 100,\n        \"samples\": [\n          42458,\n          40277,\n          42075\n        ],\n        \"semantic_type\": \"\",\n        \"description\": \"\"\n      }\n    },\n    {\n      \"column\": \"HADM_ID\",\n      \"properties\": {\n        \"dtype\": \"number\",\n        \"std\": 28342,\n        \"min\": 100375,\n        \"max\": 199395,\n        \"num_unique_values\": 129,\n        \"samples\": [\n          156668,\n          164869,\n          100375\n        ],\n        \"semantic_type\": \"\",\n        \"description\": \"\"\n      }\n    },\n    {\n      \"column\": \"ICUSTAY_ID\",\n      \"properties\": {\n        \"dtype\": \"number\",\n        \"std\": 28417.560559671805,\n        \"min\": 201006.0,\n        \"max\": 298685.0,\n        \"num_unique_values\": 136,\n        \"samples\": [\n          279529.0,\n          234989.0,\n          269173.0\n        ],\n        \"semantic_type\": \"\",\n        \"description\": \"\"\n      }\n    },\n    {\n      \"column\": \"DBSOURCE\",\n      \"properties\": {\n        \"dtype\": \"category\",\n        \"num_unique_values\": 2,\n        \"samples\": [\n          \"metavision\",\n          \"carevue\"\n        ],\n        \"semantic_type\": \"\",\n        \"description\": \"\"\n      }\n    },\n    {\n      \"column\": \"EVENTTYPE\",\n      \"properties\": {\n        \"dtype\": \"category\",\n        \"num_unique_values\": 3,\n        \"samples\": [\n          \"admit\",\n          \"transfer\"\n        ],\n        \"semantic_type\": \"\",\n        \"description\": \"\"\n      }\n    },\n    {\n      \"column\": \"PREV_CAREUNIT\",\n      \"properties\": {\n        \"dtype\": \"category\",\n        \"num_unique_values\": 5,\n        \"samples\": [\n          \"CCU\",\n          \"TSICU\"\n        ],\n        \"semantic_type\": \"\",\n        \"description\": \"\"\n      }\n    },\n    {\n      \"column\": \"CURR_CAREUNIT\",\n      \"properties\": {\n        \"dtype\": \"category\",\n        \"num_unique_values\": 5,\n        \"samples\": [\n          \"CCU\",\n          \"TSICU\"\n        ],\n        \"semantic_type\": \"\",\n        \"description\": \"\"\n      }\n    },\n    {\n      \"column\": \"PREV_WARDID\",\n      \"properties\": {\n        \"dtype\": \"number\",\n        \"std\": 18.399930716256552,\n        \"min\": 2.0,\n        \"max\": 57.0,\n        \"num_unique_values\": 28,\n        \"samples\": [\n          55.0,\n          48.0\n        ],\n        \"semantic_type\": \"\",\n        \"description\": \"\"\n      }\n    },\n    {\n      \"column\": \"CURR_WARDID\",\n      \"properties\": {\n        \"dtype\": \"number\",\n        \"std\": 18.399930716256552,\n        \"min\": 2.0,\n        \"max\": 57.0,\n        \"num_unique_values\": 28,\n        \"samples\": [\n          55.0,\n          48.0\n        ],\n        \"semantic_type\": \"\",\n        \"description\": \"\"\n      }\n    },\n    {\n      \"column\": \"INTIME\",\n      \"properties\": {\n        \"dtype\": \"object\",\n        \"num_unique_values\": 524,\n        \"samples\": [\n          \"2145-12-01 18:14:06\",\n          \"2147-11-04 20:50:00\"\n        ],\n        \"semantic_type\": \"\",\n        \"description\": \"\"\n      }\n    },\n    {\n      \"column\": \"OUTTIME\",\n      \"properties\": {\n        \"dtype\": \"object\",\n        \"num_unique_values\": 395,\n        \"samples\": [\n          \"2188-02-09 11:39:00\",\n          \"2152-10-09 23:39:43\"\n        ],\n        \"semantic_type\": \"\",\n        \"description\": \"\"\n      }\n    },\n    {\n      \"column\": \"LOS\",\n      \"properties\": {\n        \"dtype\": \"number\",\n        \"std\": 133.4428820572669,\n        \"min\": 0.0,\n        \"max\": 1415.45,\n        \"num_unique_values\": 380,\n        \"samples\": [\n          44.26,\n          0.62\n        ],\n        \"semantic_type\": \"\",\n        \"description\": \"\"\n      }\n    }\n  ]\n}"
            }
          },
          "metadata": {},
          "execution_count": 4
        }
      ]
    },
    {
      "cell_type": "markdown",
      "metadata": {
        "id": "re5rKy4pFUE8"
      },
      "source": [
        "# **Join or Merge Data**"
      ]
    },
    {
      "cell_type": "code",
      "source": [
        "# Convert datetime columns to pandas datetime objects for consistent time manipulation\n",
        "admissions['ADMITTIME'] = pd.to_datetime(admissions['ADMITTIME'])\n",
        "patients['DOB'] = pd.to_datetime(patients['DOB'])\n",
        "icustays['INTIME'] = pd.to_datetime(icustays['INTIME'])\n",
        "transfers['INTIME'] = pd.to_datetime(transfers['INTIME'])\n",
        "prescriptions['STARTDATE'] = pd.to_datetime(prescriptions['STARTDATE'], errors='coerce')  # errors='coerce' handles invalid dates\n",
        "\n",
        "# Merge ADMISSIONS and PATIENTS to combine demographic and hospital stay data\n",
        "adm_demo = admissions.merge(patients, on='SUBJECT_ID')\n",
        "\n",
        "# Calculate patient's age at the time of admission (ADMITTIME - DOB), then convert to integer\n",
        "adm_demo['AGE'] = adm_demo.apply(lambda row: (row['ADMITTIME'].to_pydatetime() - row['DOB'].to_pydatetime()).days / 365.25, axis=1)\n",
        "adm_demo['AGE'] = adm_demo['AGE'].astype(int)\n",
        "\n",
        "# Keep only relevant columns for modeling\n",
        "adm_demo = adm_demo[['SUBJECT_ID', 'HADM_ID', 'ADMITTIME', 'AGE', 'GENDER']]\n",
        "\n",
        "# Prepare ICU stay info and compute EARLY_ICU label\n",
        "icu_early = icustays.copy()\n",
        "icu_early = icu_early.merge(admissions[['HADM_ID', 'ADMITTIME']], on='HADM_ID')\n",
        "\n",
        "# Create binary label: 1 if patient entered ICU within 24 hours of hospital admission\n",
        "icu_early['EARLY_ICU'] = (icu_early['INTIME'] - icu_early['ADMITTIME']).dt.total_seconds() < 86400\n",
        "icu_early = icu_early[['HADM_ID', 'EARLY_ICU']].drop_duplicates()\n",
        "\n",
        "# Merge prescription data with admissions to compare drug start times to admission time\n",
        "# Use suffixes to avoid column name conflicts\n",
        "prescriptions = prescriptions.merge(admissions[['HADM_ID', 'ADMITTIME']], on='HADM_ID', how='left', suffixes=('', '_admission'))\n",
        "\n",
        "# Calculate time difference between prescription start and admission (in seconds)\n",
        "prescriptions['TIME_DIFF'] = (prescriptions['STARTDATE'] - prescriptions['ADMITTIME']).dt.total_seconds()\n",
        "\n",
        "# Drop rows where STARTDATE or ADMITTIME was missing\n",
        "prescriptions = prescriptions.dropna(subset=['TIME_DIFF'])\n",
        "\n",
        "# Keep only prescriptions administered in the first 12 hours (43200 seconds)\n",
        "prescriptions = prescriptions[prescriptions['TIME_DIFF'].between(0, 43200)]\n",
        "\n",
        "# Count how many drugs were given in the first 12 hours per hospital stay\n",
        "prescription_counts = prescriptions.groupby('HADM_ID')['DRUG'].count().reset_index(name='DRUG_COUNT')\n",
        "\n",
        "# Get first recorded care unit transfer for each HADM_ID\n",
        "first_transfer = transfers.sort_values(by='INTIME').drop_duplicates('HADM_ID')\n",
        "first_transfer = first_transfer[['HADM_ID', 'CURR_CAREUNIT']]\n",
        "\n",
        "# Merge all features into a single DataFrame\n",
        "df = adm_demo.merge(icu_early, on='HADM_ID', how='left')\n",
        "df = df.merge(prescription_counts, on='HADM_ID', how='left')\n",
        "df = df.merge(first_transfer, on='HADM_ID', how='left')\n",
        "\n",
        "# Fill missing values: patients not sent to ICU get EARLY_ICU=0, and DRUG_COUNT=0 if no early meds\n",
        "df['EARLY_ICU'] = df['EARLY_ICU'].fillna(False).astype(int)\n",
        "df['DRUG_COUNT'] = df['DRUG_COUNT'].fillna(0)\n",
        "\n",
        "# Convert gender to binary (1 for female, 0 for male)\n",
        "df['GENDER'] = (df['GENDER'] == 'F').astype(int)"
      ],
      "metadata": {
        "id": "rVLOGCa9rW-K"
      },
      "execution_count": 5,
      "outputs": []
    },
    {
      "cell_type": "markdown",
      "metadata": {
        "id": "g_5e6MZiGrju"
      },
      "source": [
        "# **Preprocessing**\n",
        "\n"
      ]
    },
    {
      "cell_type": "code",
      "source": [
        "# Select input features for modeling:\n",
        "# - AGE: patient age at admission\n",
        "# - GENDER: binary (1 for female, 0 for male)\n",
        "# - DRUG_COUNT: number of drugs prescribed within 12h\n",
        "# - CURR_CAREUNIT: initial care unit (categorical)\n",
        "X = df[['AGE', 'GENDER', 'DRUG_COUNT', 'CURR_CAREUNIT']]\n",
        "\n",
        "# Convert 'CURR_CAREUNIT' categorical column to one-hot encoding\n",
        "# drop_first=True avoids multicollinearity by dropping the first category\n",
        "X = pd.get_dummies(X, columns=['CURR_CAREUNIT'], drop_first=True)\n",
        "\n",
        "# Define the target variable: whether patient was transferred to ICU within 24h\n",
        "y = df['EARLY_ICU']\n",
        "\n",
        "# Split data into training and testing sets with stratified sampling on the target\n",
        "# This ensures class balance is preserved between splits\n",
        "X_train, X_test, y_train, y_test = train_test_split(X, y, stratify=y, test_size=0.2, random_state=42)\n",
        "\n",
        "# Standardize the input features to have zero mean and unit variance\n",
        "# This improves convergence for many ML algorithms, especially neural networks\n",
        "scaler = StandardScaler()\n",
        "X_train_scaled = scaler.fit_transform(X_train)\n",
        "X_test_scaled = scaler.transform(X_test)\n"
      ],
      "metadata": {
        "id": "2E_Qi215sgiA"
      },
      "execution_count": 6,
      "outputs": []
    },
    {
      "cell_type": "markdown",
      "source": [],
      "metadata": {
        "id": "bwlsPN5bH9vt"
      }
    },
    {
      "cell_type": "markdown",
      "metadata": {
        "id": "Jr-ElsfDCka6"
      },
      "source": [
        "# **Machine Learning Model**\n"
      ]
    },
    {
      "cell_type": "code",
      "source": [
        "rf = RandomForestClassifier(n_estimators=100, random_state=42)\n",
        "rf.fit(X_train_scaled, y_train)\n",
        "y_pred_rf = rf.predict(X_test_scaled)\n",
        "print(\"\\nRandom Forest Performance:\")\n",
        "print(classification_report(y_test, y_pred_rf))\n",
        "print(\"AUC-ROC:\", roc_auc_score(y_test, rf.predict_proba(X_test_scaled)[:, 1]))\n",
        "joblib.dump(rf, \"rf_icu_transfer_model.pkl\")\n"
      ],
      "metadata": {
        "colab": {
          "base_uri": "https://localhost:8080/"
        },
        "id": "AWO-VpMz2__y",
        "outputId": "04bf3dd9-3007-4e7b-c6fc-79c49a1df6f1"
      },
      "execution_count": 7,
      "outputs": [
        {
          "output_type": "stream",
          "name": "stdout",
          "text": [
            "\n",
            "Random Forest Performance:\n",
            "              precision    recall  f1-score   support\n",
            "\n",
            "           0       0.00      0.00      0.00         4\n",
            "           1       0.83      0.87      0.85        23\n",
            "\n",
            "    accuracy                           0.74        27\n",
            "   macro avg       0.42      0.43      0.43        27\n",
            "weighted avg       0.71      0.74      0.72        27\n",
            "\n",
            "AUC-ROC: 0.4402173913043478\n"
          ]
        },
        {
          "output_type": "execute_result",
          "data": {
            "text/plain": [
              "['rf_icu_transfer_model.pkl']"
            ]
          },
          "metadata": {},
          "execution_count": 7
        }
      ]
    },
    {
      "cell_type": "markdown",
      "source": [
        "# **Deep Learning Model**\n"
      ],
      "metadata": {
        "id": "XZpim0p43LI3"
      }
    },
    {
      "cell_type": "code",
      "source": [
        "# Use a Neural Network to improve accuracy.\n",
        "\n",
        "X_train_tensor = torch.tensor(X_train_scaled, dtype=torch.float32)\n",
        "y_train_tensor = torch.tensor(y_train.values, dtype=torch.float32).unsqueeze(1)\n",
        "X_test_tensor = torch.tensor(X_test_scaled, dtype=torch.float32)\n",
        "y_test_tensor = torch.tensor(y_test.values, dtype=torch.float32).unsqueeze(1)\n",
        "\n",
        "train_ds = TensorDataset(X_train_tensor, y_train_tensor)\n",
        "train_dl = DataLoader(train_ds, batch_size=32, shuffle=True)\n"
      ],
      "metadata": {
        "id": "8swfHUX43Tp_"
      },
      "execution_count": 8,
      "outputs": []
    },
    {
      "cell_type": "code",
      "source": [
        "class ICUTransferNet(nn.Module):\n",
        "    def __init__(self, input_dim):\n",
        "        super().__init__()\n",
        "        self.fc = nn.Sequential(\n",
        "            nn.Linear(input_dim, 16),\n",
        "            nn.ReLU(),\n",
        "            nn.Linear(16, 8),\n",
        "            nn.ReLU(),\n",
        "            nn.Linear(8, 1),\n",
        "            nn.Sigmoid()\n",
        "        )\n",
        "    def forward(self, x):\n",
        "        return self.fc(x)\n",
        "\n",
        "model = ICUTransferNet(X_train.shape[1])\n",
        "criterion = nn.BCELoss()\n",
        "optimizer = torch.optim.Adam(model.parameters(), lr=0.001)\n",
        "\n",
        "for epoch in range(10):\n",
        "    model.train()\n",
        "    epoch_loss = 0\n",
        "    for xb, yb in train_dl:\n",
        "        optimizer.zero_grad()\n",
        "        preds = model(xb)\n",
        "        loss = criterion(preds, yb)\n",
        "        loss.backward()\n",
        "        optimizer.step()\n",
        "        epoch_loss += loss.item()\n",
        "    print(f\"Epoch {epoch+1}, Loss: {epoch_loss:.4f}\")\n"
      ],
      "metadata": {
        "colab": {
          "base_uri": "https://localhost:8080/"
        },
        "id": "abAgVFS-5TsW",
        "outputId": "a3ea0183-7c32-4dbe-c78e-d1c7768ac1da"
      },
      "execution_count": 9,
      "outputs": [
        {
          "output_type": "stream",
          "name": "stdout",
          "text": [
            "Epoch 1, Loss: 3.0602\n",
            "Epoch 2, Loss: 3.0177\n",
            "Epoch 3, Loss: 2.9748\n",
            "Epoch 4, Loss: 2.9154\n",
            "Epoch 5, Loss: 2.9106\n",
            "Epoch 6, Loss: 2.9002\n",
            "Epoch 7, Loss: 2.8524\n",
            "Epoch 8, Loss: 2.8142\n",
            "Epoch 9, Loss: 2.8035\n",
            "Epoch 10, Loss: 2.7530\n"
          ]
        }
      ]
    },
    {
      "cell_type": "markdown",
      "source": [
        "# **Evaluate Model Performance**\n"
      ],
      "metadata": {
        "id": "qPoZ9qKE28cJ"
      }
    },
    {
      "cell_type": "code",
      "source": [
        "model.eval()\n",
        "y_pred_dl = model(X_test_tensor).detach().numpy()\n",
        "y_label_dl = (y_pred_dl > 0.5).astype(int)\n",
        "\n",
        "print(\"\\nDeep Learning Model Performance:\")\n",
        "print(classification_report(y_test, y_label_dl))\n",
        "print(\"AUC-ROC:\", roc_auc_score(y_test, y_pred_dl))\n"
      ],
      "metadata": {
        "id": "gUXKSp-OK41D",
        "colab": {
          "base_uri": "https://localhost:8080/"
        },
        "outputId": "4840634e-294b-49bf-e2b2-787e93702156"
      },
      "execution_count": 10,
      "outputs": [
        {
          "output_type": "stream",
          "name": "stdout",
          "text": [
            "\n",
            "Deep Learning Model Performance:\n",
            "              precision    recall  f1-score   support\n",
            "\n",
            "           0       0.12      0.25      0.17         4\n",
            "           1       0.84      0.70      0.76        23\n",
            "\n",
            "    accuracy                           0.63        27\n",
            "   macro avg       0.48      0.47      0.46        27\n",
            "weighted avg       0.74      0.63      0.67        27\n",
            "\n",
            "AUC-ROC: 0.5543478260869565\n"
          ]
        }
      ]
    },
    {
      "cell_type": "markdown",
      "source": [],
      "metadata": {
        "id": "K21h_uov6Li9"
      }
    },
    {
      "cell_type": "markdown",
      "source": [
        "# **Data Visulaization**"
      ],
      "metadata": {
        "id": "n5fMxv2OH4HV"
      }
    },
    {
      "cell_type": "code",
      "source": [
        "import matplotlib.pyplot as plt\n",
        "import seaborn as sns\n",
        "from sklearn.metrics import confusion_matrix\n",
        "\n",
        "\n",
        "# Accuracy & AUC comparison\n",
        "ml_auc = 0.44  # From your result\n",
        "dl_auc = 0.55  # From your result\n",
        "\n",
        "fig, ax = plt.subplots(1, 2, figsize=(10, 4))\n",
        "\n",
        "# Accuracy Bar\n",
        "ax[0].bar(['Random Forest', 'Neural Network'], [0.74, 0.63], color=['skyblue', 'lightgreen'])\n",
        "ax[0].set_title(\"Model Accuracy\")\n",
        "ax[0].set_ylim(0, 1)\n",
        "\n",
        "# AUC Bar\n",
        "ax[1].bar(['Random Forest', 'Neural Network'], [ml_auc, dl_auc], color=['skyblue', 'lightgreen'])\n",
        "ax[1].set_title(\"Model AUC-ROC\")\n",
        "ax[1].set_ylim(0, 1)\n",
        "\n",
        "plt.tight_layout()\n",
        "plt.show()\n",
        "\n",
        "# Confusion Matrix - Random Forest\n",
        "rf_cm = confusion_matrix(y_test, y_pred_rf)\n",
        "plt.figure(figsize=(5, 4))\n",
        "sns.heatmap(rf_cm, annot=True, fmt='d', cmap='Blues')\n",
        "plt.title(\"Confusion Matrix: Random Forest\")\n",
        "plt.xlabel(\"Predicted\")\n",
        "plt.ylabel(\"True\")\n",
        "plt.show()\n",
        "\n",
        "# Confusion Matrix - Deep Learning\n",
        "dl_cm = confusion_matrix(y_test, y_label_dl)\n",
        "plt.figure(figsize=(5, 4))\n",
        "sns.heatmap(dl_cm, annot=True, fmt='d', cmap='Greens')\n",
        "plt.title(\"Confusion Matrix: Deep Learning\")\n",
        "plt.xlabel(\"Predicted\")\n",
        "plt.ylabel(\"True\")\n",
        "plt.show()"
      ],
      "metadata": {
        "colab": {
          "base_uri": "https://localhost:8080/",
          "height": 1000
        },
        "id": "qoZmMk-wbIJR",
        "outputId": "d7ee1196-722e-4769-ee8e-cef5a577420f"
      },
      "execution_count": 14,
      "outputs": [
        {
          "output_type": "display_data",
          "data": {
            "text/plain": [
              "<Figure size 1000x400 with 2 Axes>"
            ],
            "image/png": "[encoded data removed]"
          },
          "metadata": {}
        },
        {
          "output_type": "display_data",
          "data": {
            "text/plain": [
              "<Figure size 500x400 with 2 Axes>"
            ],
            "image/png": "[encoded data removed]"
          },
          "metadata": {}
        },
        {
          "output_type": "display_data",
          "data": {
            "text/plain": [
              "<Figure size 500x400 with 2 Axes>"
            ],
            "image/png": "[encoded data removed]"
          },
          "metadata": {}
        }
      ]
    }
  ],
  "metadata": {
    "colab": {
      "collapsed_sections": [
        "cIirbEIhGgc2"
      ],
      "gpuType": "T4",
      "provenance": [],
      "include_colab_link": true
    },
    "kernelspec": {
      "display_name": "Python 3",
      "name": "python3"
    }
  },
  "nbformat": 4,
  "nbformat_minor": 0
}